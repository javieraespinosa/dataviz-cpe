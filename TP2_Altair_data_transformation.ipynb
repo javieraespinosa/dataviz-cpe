{
  "cells": [
    {
      "cell_type": "markdown",
      "metadata": {
        "id": "view-in-github",
        "colab_type": "text"
      },
      "source": [
        "<a href=\"https://colab.research.google.com/github/javieraespinosa/dataviz-cpe/blob/main/TP2_Altair_data_transformation.ipynb\" target=\"_parent\"><img src=\"https://colab.research.google.com/assets/colab-badge.svg\" alt=\"Open In Colab\"/></a>"
      ]
    },
    {
      "cell_type": "markdown",
      "metadata": {
        "id": "D8bsQl6JmfvJ"
      },
      "source": [
        "# Data Transformation\n",
        "\n",
        "Data transformation is an integral part of visualization: choosing the  variables to show and their level of detail is just as important as choosing appropriate visual encodings. After all, it doesn't matter how well chosen your visual encodings are if you are showing the wrong information!\n",
        "\n",
        "As you work through this module, we recommend that you open the [Altair Data Transformations documentation](https://altair-viz.github.io/user_guide/transform/index.html) in another tab. It will be a useful resource if at any point you'd like more details or want to see what other transformations are available.\n",
        "\n",
        "_This notebook is part of the [data visualization curriculum](https://github.com/uwdata/visualization-curriculum)._"
      ]
    },
    {
      "cell_type": "code",
      "execution_count": null,
      "metadata": {
        "id": "zYMsJwmgJ4R7"
      },
      "outputs": [],
      "source": [
        "import pandas as pd\n",
        "import altair as alt"
      ]
    },
    {
      "cell_type": "markdown",
      "metadata": {
        "id": "a7BV1iAjml7x"
      },
      "source": [
        "## The Movies Dataset"
      ]
    },
    {
      "cell_type": "markdown",
      "metadata": {
        "id": "yYtrAahLV3eU"
      },
      "source": [
        "We will be working with a table of data about motion pictures, taken from the [vega-datasets](https://vega.github.io/vega-datasets/) collection. The data includes variables such as the film name, director, genre, release date, ratings, and gross revenues. However, _be careful when working with this data_: the films are from unevenly sampled years, using data combined from multiple sources. If you dig in you will find issues with missing values and even some subtle errors! Nevertheless, the data should prove interesting to explore...\n",
        "\n",
        "Let's retrieve the URL for the JSON data file from the vega_datasets package, and then read the data into a Pandas data frame so that we can inspect its contents."
      ]
    },
    {
      "cell_type": "code",
      "execution_count": null,
      "metadata": {
        "id": "khT9YvmEicpo"
      },
      "outputs": [],
      "source": [
        "\n",
        "movies = pd.read_json(movies_url)"
      ]
    },
    {
      "cell_type": "markdown",
      "metadata": {
        "id": "P6wdIPQsXKHK"
      },
      "source": [
        "How many rows (records) and columns (fields) are in the movies dataset?"
      ]
    },
    {
      "cell_type": "code",
      "execution_count": null,
      "metadata": {
        "id": "RR-fAxzmXM6H"
      },
      "outputs": [],
      "source": [
        "movies.shape"
      ]
    },
    {
      "cell_type": "markdown",
      "metadata": {
        "id": "PZlB4ti1XCn1"
      },
      "source": [
        "Now let's peek at the first 5 rows of the table to get a sense of the fields and data types..."
      ]
    },
    {
      "cell_type": "code",
      "execution_count": null,
      "metadata": {
        "id": "Oby1ngC7VoUL"
      },
      "outputs": [],
      "source": [
        "movies.head(5)"
      ]
    },
    {
      "cell_type": "markdown",
      "metadata": {
        "id": "kDpfxknEl9dE"
      },
      "source": [
        "## Histograms\n",
        "\n",
        "We'll start our transformation tour by _binning_ data into discrete groups and _counting_ records to summarize those groups. The resulting plots are known as [_histograms_](https://en.wikipedia.org/wiki/Histogram).\n",
        "\n",
        "Let's first look at unaggregated data: a scatter plot showing movie ratings from [Rotten Tomatoes](https://en.wikipedia.org/wiki/Rotten_Tomatoes) versus ratings from [IMDB](https://en.wikipedia.org/wiki/IMDb) users. We'll provide data to Altair by passing the movies data URL to the `Chart` method. (We could also pass the Pandas data frame directly to get the same result.) We can then encode the Rotten Tomatoes and IMDB ratings fields using the `x` and `y` channels:"
      ]
    },
    {
      "cell_type": "code",
      "execution_count": null,
      "metadata": {
        "id": "NPrkvLBOJ4SA"
      },
      "outputs": [],
      "source": [
        "alt.Chart(movies_url).mark_circle().encode(\n",
        "    alt.X('Rotten_Tomatoes_Rating:Q'),\n",
        "    alt.Y('IMDB_Rating:Q')\n",
        ")"
      ]
    },
    {
      "cell_type": "markdown",
      "metadata": {
        "id": "I3JZLmmTcYf-"
      },
      "source": [
        "To summarize this data, we can *bin* a data field to group numeric values into discrete groups. Here we bin along the x-axis by adding `bin=True` to the `x` encoding channel. The result is a set of ten bins of equal step size, each corresponding to a span of ten ratings points."
      ]
    },
    {
      "cell_type": "code",
      "execution_count": null,
      "metadata": {
        "id": "qTj6F82eJ4SF"
      },
      "outputs": [],
      "source": [
        "alt.Chart(movies_url).mark_circle().encode(\n",
        "    alt.X('Rotten_Tomatoes_Rating:Q', bin=True),\n",
        "    alt.Y('IMDB_Rating:Q')\n",
        ")"
      ]
    },
    {
      "cell_type": "markdown",
      "metadata": {
        "id": "9GbuvhbxdEzL"
      },
      "source": [
        "Setting `bin=True` uses default binning settings, but we can exercise more control if desired. Let's instead set the maximum bin count (`maxbins`) to 20, which has the effect of doubling the number of bins. Now each bin corresponds to a span of five ratings points."
      ]
    },
    {
      "cell_type": "code",
      "execution_count": null,
      "metadata": {
        "id": "JRYagm7tU2Yb"
      },
      "outputs": [],
      "source": [
        "alt.Chart(movies_url).mark_circle().encode(\n",
        "    alt.X('Rotten_Tomatoes_Rating:Q', bin=alt.BinParams(maxbins=20)),\n",
        "    alt.Y('IMDB_Rating:Q')\n",
        ")"
      ]
    },
    {
      "cell_type": "markdown",
      "metadata": {
        "id": "vKLumbced_yB"
      },
      "source": [
        "With the data binned, let's now summarize the distribution of Rotten Tomatoes ratings. We will drop the IMDB ratings for now and instead use the `y` encoding channel to show an aggregate `count` of records, so that the vertical position of each point indicates the number of movies per Rotten Tomatoes rating bin.\n",
        "\n",
        "As the `count` aggregate counts the number of total records in each bin regardless of the field values, we do not need to include a field name in the `y` encoding."
      ]
    },
    {
      "cell_type": "code",
      "execution_count": null,
      "metadata": {
        "id": "NeutGiz8J664"
      },
      "outputs": [],
      "source": [
        "alt.Chart(movies_url).mark_circle().encode(\n",
        "    alt.X('Rotten_Tomatoes_Rating:Q', bin=alt.BinParams(maxbins=20)),\n",
        "    alt.Y('count()')\n",
        ")"
      ]
    },
    {
      "cell_type": "markdown",
      "metadata": {
        "id": "xBjv_RMeed0S"
      },
      "source": [
        "To arrive at a standard histogram, let's change the mark type from `circle` to `bar`:"
      ]
    },
    {
      "cell_type": "code",
      "execution_count": null,
      "metadata": {
        "id": "6xOHaNlek0y4"
      },
      "outputs": [],
      "source": [
        "alt.Chart(movies_url).mark_bar().encode(\n",
        "    alt.X('Rotten_Tomatoes_Rating:Q', bin=alt.BinParams(maxbins=20)),\n",
        "    alt.Y('count()')\n",
        ")"
      ]
    },
    {
      "cell_type": "markdown",
      "metadata": {
        "id": "5pUVxMpMfKo9"
      },
      "source": [
        "_We can now examine the distribution of ratings more clearly: we can see fewer movies on the negative end, and a bit more movies on the high end, but a generally uniform distribution overall. Rotten Tomatoes ratings are determined by taking \"thumbs up\" and \"thumbs down\" judgments from film critics and calculating the percentage of positive reviews. It appears this approach does a good job of utilizing the full range of rating values._\n",
        "\n",
        "Similarly, we can create a histogram for IMDB ratings by changing the field in the `x` encoding channel:"
      ]
    },
    {
      "cell_type": "code",
      "execution_count": null,
      "metadata": {
        "id": "7S9YSjoUlgAW"
      },
      "outputs": [],
      "source": [
        "alt.Chart(movies_url).mark_bar().encode(\n",
        "    alt.X('IMDB_Rating:Q', bin=alt.BinParams(maxbins=20)),\n",
        "    alt.Y('count()')\n",
        ")"
      ]
    },
    {
      "cell_type": "markdown",
      "metadata": {
        "id": "7N1qzbq8f49r"
      },
      "source": [
        "_In contrast to the more uniform distribution we saw before, IMDB ratings exhibit a bell-shaped (though [negatively skewed](https://en.wikipedia.org/wiki/Skewness)) distribution. IMDB ratings are formed by averaging scores (ranging from 1 to 10) provided by the site's users. We can see that this form of measurement leads to a different shape than the Rotten Tomatoes ratings. We can also see that the mode of the distribution is between 6.5 and 7: people generally enjoy watching movies, potentially explaining the positive bias!_\n",
        "\n",
        "Now let's turn back to our scatter plot of Rotten Tomatoes and IMDB ratings. Here's what happens if we bin *both* axes of our original plot."
      ]
    },
    {
      "cell_type": "code",
      "execution_count": null,
      "metadata": {
        "id": "IKdIT0xMlsjN"
      },
      "outputs": [],
      "source": [
        "alt.Chart(movies_url).mark_circle().encode(\n",
        "    alt.X('Rotten_Tomatoes_Rating:Q', bin=alt.BinParams(maxbins=20)),\n",
        "    alt.Y('IMDB_Rating:Q', bin=alt.BinParams(maxbins=20)),\n",
        ")"
      ]
    },
    {
      "cell_type": "markdown",
      "metadata": {
        "id": "l54nRdbjgMAm"
      },
      "source": [
        "Detail is lost due to *overplotting*, with many points drawn directly on top of each other.\n",
        "\n",
        "To form a two-dimensional histogram we can add a `count` aggregate as before. As both the `x` and `y` encoding channels are already taken, we must use a different encoding channel to convey the counts. Here is the result of using circular area by adding a *size* encoding channel."
      ]
    },
    {
      "cell_type": "code",
      "execution_count": null,
      "metadata": {
        "id": "WDTzOh74l1S-"
      },
      "outputs": [],
      "source": [
        "alt.Chart(movies_url).mark_circle().encode(\n",
        "    alt.X('Rotten_Tomatoes_Rating:Q', bin=alt.BinParams(maxbins=20)),\n",
        "    alt.Y('IMDB_Rating:Q', bin=alt.BinParams(maxbins=20)),\n",
        "    alt.Size('count()')\n",
        ")"
      ]
    },
    {
      "cell_type": "markdown",
      "metadata": {
        "id": "h5_SqrH6ghhB"
      },
      "source": [
        "Alternatively, we can encode counts using the `color` channel and change the mark type to `bar`. The result is a two-dimensional histogram in the form of a [*heatmap*](https://en.wikipedia.org/wiki/Heat_map)."
      ]
    },
    {
      "cell_type": "code",
      "execution_count": null,
      "metadata": {
        "id": "y0YfNuE5kkcO"
      },
      "outputs": [],
      "source": [
        "alt.Chart(movies_url).mark_bar().encode(\n",
        "    alt.X('Rotten_Tomatoes_Rating:Q', bin=alt.BinParams(maxbins=20)),\n",
        "    alt.Y('IMDB_Rating:Q', bin=alt.BinParams(maxbins=20)),\n",
        "    alt.Color('count()')\n",
        ")"
      ]
    },
    {
      "cell_type": "markdown",
      "metadata": {
        "id": "NObIxgkv-mpt"
      },
      "source": [
        "Compare the *size* and *color*-based 2D histograms above. Which encoding do you think should be preferred? Why? In which plot can you more precisely compare the magnitude of individual values? In which plot can you more accurately see the overall density of ratings?"
      ]
    },
    {
      "cell_type": "markdown",
      "metadata": {
        "id": "jMEDgVOcmLFX"
      },
      "source": [
        "## Aggregation\n",
        "\n",
        "Counts are just one type of aggregate. We might also calculate summaries using measures such as the `average`, `median`, `min`, or `max`. The Altair documentation includes the [full set of available aggregation functions](https://altair-viz.github.io/user_guide/encoding.html#encoding-aggregates).\n",
        "\n",
        "Let's look at some examples!"
      ]
    },
    {
      "cell_type": "markdown",
      "metadata": {
        "id": "CfH7jndC_nCy"
      },
      "source": [
        "### Averages and Sorting\n",
        "\n",
        "**_Do different genres of films receive consistently different ratings from critics?_** \n",
        "\n",
        "As a first step towards answering this question, we might examine the [*average* (a.k.a. the *arithmetic mean*)](https://en.wikipedia.org/wiki/Arithmetic_mean) rating for each genre of movie.\n",
        "\n",
        "Let's visualize genre along the `y` axis and plot `average` Rotten Tomatoes ratings along the `x` axis."
      ]
    },
    {
      "cell_type": "code",
      "execution_count": null,
      "metadata": {
        "id": "VIvDbBiDmPyD"
      },
      "outputs": [],
      "source": [
        "alt.Chart(movies_url).mark_bar().encode(\n",
        "    alt.X('average(Rotten_Tomatoes_Rating):Q'),\n",
        "    alt.Y('Major_Genre:N')\n",
        ")"
      ]
    },
    {
      "cell_type": "markdown",
      "metadata": {
        "id": "G92q1OdxnjdS"
      },
      "source": [
        "_There does appear to be some interesting variation, but looking at the data as an alphabetical list is not very helpful for ranking critical reactions to the genres._\n",
        "\n",
        "For a tidier picture, let's sort the genres in descending order of average rating. To do so, we will add a `sort` parameter to the `y` encoding channel, stating that we wish to sort by the *average* (`op`, the aggregate operation) Rotten Tomatoes rating (the `field`) in descending `order`."
      ]
    },
    {
      "cell_type": "code",
      "execution_count": null,
      "metadata": {
        "id": "Oge7kcjUncLs"
      },
      "outputs": [],
      "source": [
        "alt.Chart(movies_url).mark_bar().encode(\n",
        "    alt.X('average(Rotten_Tomatoes_Rating):Q'),\n",
        "    alt.Y('Major_Genre:N', sort=alt.EncodingSortField(\n",
        "        op='average', field='Rotten_Tomatoes_Rating', order='descending')\n",
        "    )\n",
        ")"
      ]
    },
    {
      "cell_type": "markdown",
      "metadata": {
        "id": "N--v2hExtjzz"
      },
      "source": [
        "_The sorted plot suggests that critics think highly of documentaries, musicals, westerns, and dramas, but look down upon romantic comedies and horror films... and who doesn't love `null` movies!?_"
      ]
    },
    {
      "cell_type": "markdown",
      "metadata": {
        "id": "i6jWJ-HOpF_-"
      },
      "source": [
        "### Medians and the Inter-Quartile Range\n",
        "\n",
        "While averages are a common way to summarize data, they can sometimes mislead. For example, very large or very small values ([*outliers*](https://en.wikipedia.org/wiki/Outlier)) might skew the average. To be safe, we can compare the genres according to the [*median*](https://en.wikipedia.org/wiki/Median) ratings as well.\n",
        "\n",
        "The median is a point that splits the data evenly, such that half of the values are less than the median and the other half are greater. The median is less sensitive to outliers and so is referred to as a [*robust* statistic](https://en.wikipedia.org/wiki/Robust_statistics). For example, arbitrarily increasing the largest rating value will not cause the median to change.\n",
        "\n",
        "Let's update our plot to use a `median` aggregate and sort by those values:"
      ]
    },
    {
      "cell_type": "code",
      "execution_count": null,
      "metadata": {
        "id": "9npR5D_EpXMJ"
      },
      "outputs": [],
      "source": [
        "alt.Chart(movies_url).mark_bar().encode(\n",
        "    alt.X('median(Rotten_Tomatoes_Rating):Q'),\n",
        "    alt.Y('Major_Genre:N', sort=alt.EncodingSortField(\n",
        "        op='median', field='Rotten_Tomatoes_Rating', order='descending')\n",
        "    )\n",
        ")"
      ]
    },
    {
      "cell_type": "markdown",
      "metadata": {
        "id": "eRBgJiXcp6DX"
      },
      "source": [
        "_We can see that some of the genres with similar averages have swapped places (films of unknown genre, or `null`, are now rated highest!), but the overall groups have stayed stable. Horror films continue to get little love from professional film critics._\n",
        "\n",
        "It's a good idea to stay skeptical when viewing aggregate statistics. So far we've only looked at *point estimates*. We have not examined how ratings vary within a genre.\n",
        "\n",
        "Let's visualize the variation among the ratings to add some nuance to our rankings. Here we will encode the [*inter-quartile range* (IQR)](https://en.wikipedia.org/wiki/Interquartile_range) for each genre. The IQR is the range in which the middle half of data values reside. A [*quartile*](https://en.wikipedia.org/wiki/Quartile) contains 25% of the data values. The inter-quartile range consists of the two middle quartiles, and so contains the middle 50%. \n",
        "\n",
        "To visualize ranges, we can use the `x` and `x2` encoding channels to indicate the starting and ending points. We use the aggregate functions `q1` (the lower quartile boundary) and `q3` (the upper quartile boundary) to provide the inter-quartile range. (In case you are wondering, *q2* would be the median.)"
      ]
    },
    {
      "cell_type": "code",
      "execution_count": null,
      "metadata": {
        "id": "vJaDc25rqWPv"
      },
      "outputs": [],
      "source": [
        "alt.Chart(movies_url).mark_bar().encode(\n",
        "    alt.X('q1(Rotten_Tomatoes_Rating):Q'),\n",
        "    alt.X2('q3(Rotten_Tomatoes_Rating):Q'),\n",
        "    alt.Y('Major_Genre:N', sort=alt.EncodingSortField(\n",
        "        op='median', field='Rotten_Tomatoes_Rating', order='descending')\n",
        "    )\n",
        ")"
      ]
    },
    {
      "cell_type": "markdown",
      "metadata": {
        "id": "gUwvZzKqsRGr"
      },
      "source": [
        "### Time Units\n",
        "\n",
        "_Now let's ask a completely different question: do box office returns vary by season?_\n",
        "\n",
        "To get an initial answer, let's plot the median U.S. gross revenue by month.\n",
        "\n",
        "To make this chart, use the `timeUnit` transform to map release dates to the `month` of the year. The result is similar to binning, but using meaningful time intervals. Other valid time units include `year`, `quarter`, `date` (numeric day in month), `day` (day of the week), and `hours`, as well as compound units such as `yearmonth` or `hoursminutes`. See the Altair documentation for a [complete list of time units](https://altair-viz.github.io/user_guide/transform/timeunit.html?highlight=timeunit#timeunit-transform)."
      ]
    },
    {
      "cell_type": "code",
      "execution_count": null,
      "metadata": {
        "id": "fcAsPlezscPl"
      },
      "outputs": [],
      "source": [
        "alt.Chart(movies_url).mark_area().encode(\n",
        "    alt.X('month(Release_Date):T'),\n",
        "    alt.Y('median(US_Gross):Q')\n",
        ")"
      ]
    },
    {
      "cell_type": "markdown",
      "metadata": {
        "id": "7Oh_slUruKBx"
      },
      "source": [
        "_Looking at the resulting plot, median movie sales in the U.S. appear to spike around the summer blockbuster season and the end of year holiday period. Of course, people around the world (not just the U.S.) go out to the movies. Does a similar pattern arise for worldwide gross revenue?_"
      ]
    },
    {
      "cell_type": "code",
      "execution_count": null,
      "metadata": {
        "id": "HO5Y5oszuQnZ"
      },
      "outputs": [],
      "source": [
        "alt.Chart(movies_url).mark_area().encode(\n",
        "    alt.X('month(Release_Date):T'),\n",
        "    alt.Y('median(Worldwide_Gross):Q')\n",
        ")"
      ]
    },
    {
      "cell_type": "markdown",
      "metadata": {
        "id": "y4GyGbDTtjz5"
      },
      "source": [
        "_Yes!_"
      ]
    },
    {
      "cell_type": "markdown",
      "metadata": {
        "id": "qQYp2jnoXJ1H"
      },
      "source": [
        "## Summary\n",
        "\n",
        "We've only scratched the surface of what data transformations can do! For more details, including all the available transformations and their parameters, see the [Altair data transformation documentation](https://altair-viz.github.io/user_guide/transform.html).\n",
        "\n",
        "Sometimes you will need to perform significant data transformation to prepare your data _prior_ to using visualization tools. To engage in [_data wrangling_](https://en.wikipedia.org/wiki/Data_wrangling) right here in Python, you can use the [Pandas library](https://pandas.pydata.org/)."
      ]
    }
  ],
  "metadata": {
    "kernelspec": {
      "display_name": "Python 3",
      "language": "python",
      "name": "python3"
    },
    "language_info": {
      "codemirror_mode": {
        "name": "ipython",
        "version": 3
      },
      "file_extension": ".py",
      "mimetype": "text/x-python",
      "name": "python",
      "nbconvert_exporter": "python",
      "pygments_lexer": "ipython3",
      "version": "3.7.9"
    },
    "colab": {
      "name": "TP2 Altair_data_transformation.ipynb",
      "provenance": [],
      "include_colab_link": true
    }
  },
  "nbformat": 4,
  "nbformat_minor": 0
}