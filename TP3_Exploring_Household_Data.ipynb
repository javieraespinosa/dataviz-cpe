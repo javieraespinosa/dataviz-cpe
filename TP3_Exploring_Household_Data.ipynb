{
  "nbformat": 4,
  "nbformat_minor": 0,
  "metadata": {
    "colab": {
      "name": "TP3 Exploring Household Data.ipynb",
      "provenance": [],
      "authorship_tag": "ABX9TyOqgoyWd6lvQH0fB27h/t7D",
      "include_colab_link": true
    },
    "kernelspec": {
      "name": "python3",
      "display_name": "Python 3"
    },
    "language_info": {
      "name": "python"
    }
  },
  "cells": [
    {
      "cell_type": "markdown",
      "metadata": {
        "id": "view-in-github",
        "colab_type": "text"
      },
      "source": [
        "<a href=\"https://colab.research.google.com/github/javieraespinosa/dataviz-cpe/blob/main/TP3_Exploring_Household_Data.ipynb\" target=\"_parent\"><img src=\"https://colab.research.google.com/assets/colab-badge.svg\" alt=\"Open In Colab\"/></a>"
      ]
    },
    {
      "cell_type": "code",
      "execution_count": null,
      "metadata": {
        "id": "sRhml2Hfj4wL"
      },
      "outputs": [],
      "source": [
        "import pandas as pd\n",
        "import altair as alt\n",
        "\n",
        "alt.data_transformers.disable_max_rows()"
      ]
    },
    {
      "cell_type": "code",
      "source": [
        "!git clone https://github.com/javieraespinosa/dataviz-cpe.git"
      ],
      "metadata": {
        "id": "SAy3Y03_-fdT"
      },
      "execution_count": null,
      "outputs": []
    },
    {
      "cell_type": "code",
      "source": [
        "data = pd.read_csv(\"dataviz-cpe/data/electricity-cleaned.csv\")\n",
        "data[\"Timestamp\"] = pd.to_datetime(data[\"Timestamp\"])\n",
        "data.head(5)"
      ],
      "metadata": {
        "id": "uuW3NRJKj_ZJ"
      },
      "execution_count": null,
      "outputs": []
    },
    {
      "cell_type": "markdown",
      "source": [
        "> Altair Examples Gallery   \n",
        "> https://altair-viz.github.io/gallery/index.html"
      ],
      "metadata": {
        "id": "uERgs9R8wpEu"
      }
    },
    {
      "cell_type": "code",
      "source": [
        "alt.Chart(data).mark_point().encode(\n",
        "    alt.X('Electricity:Q')\n",
        ")"
      ],
      "metadata": {
        "id": "mliU_DBtka8q"
      },
      "execution_count": null,
      "outputs": []
    }
  ]
}